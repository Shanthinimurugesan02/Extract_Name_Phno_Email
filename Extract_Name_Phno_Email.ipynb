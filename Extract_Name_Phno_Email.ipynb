{
 "cells": [
  {
   "cell_type": "code",
   "execution_count": 1,
   "id": "5339a4a0",
   "metadata": {},
   "outputs": [
    {
     "name": "stdout",
     "output_type": "stream",
     "text": [
      "Requirement already satisfied: PyPDF2 in /usr/local/lib/python3.10/dist-packages (3.0.1)\n",
      "\u001b[33mWARNING: Running pip as the 'root' user can result in broken permissions and conflicting behaviour with the system package manager. It is recommended to use a virtual environment instead: https://pip.pypa.io/warnings/venv\u001b[0m\u001b[33m\n",
      "\u001b[0m"
     ]
    }
   ],
   "source": [
    "!pip install PyPDF2"
   ]
  },
  {
   "cell_type": "code",
   "execution_count": 37,
   "id": "d3993804",
   "metadata": {},
   "outputs": [],
   "source": [
    "import PyPDF2\n",
    "import re"
   ]
  },
  {
   "cell_type": "code",
   "execution_count": 44,
   "id": "f997894d",
   "metadata": {},
   "outputs": [],
   "source": [
    "def extract_contact_info(text):\n",
    "    name = re.search(r\"(?<=^)\\w+\\s+\\w+\\s+\\w+\", text, re.MULTILINE).group(0)\n",
    "\n",
    "    # Extracting phone number\n",
    "    phone_number = re.search(r\"\\+\\d{2}\\s+\\d+\", text).group(0)\n",
    "\n",
    "    # Extracting email ID\n",
    "    email = re.search(r\"\\b[A-Za-z0-9._%+-]+@[A-Za-z0-9.-]+\\.[A-Z|a-z]{2,}\\b\", text.replace(\" \", \"\")).group(0)\n",
    "\n",
    "    print(\"Name:\", name)\n",
    "    print(\"Phone Number:\", phone_number)\n",
    "    print(\"Email ID:\", email)"
   ]
  },
  {
   "cell_type": "code",
   "execution_count": 45,
   "id": "a75e426b",
   "metadata": {},
   "outputs": [],
   "source": [
    "resume_filename = '/media/Shanthini _M.pdf'"
   ]
  },
  {
   "cell_type": "code",
   "execution_count": 46,
   "id": "9d2718ed",
   "metadata": {},
   "outputs": [],
   "source": [
    "with open(resume_filename, 'rb') as file:\n",
    "    pdf_reader = PyPDF2.PdfReader(f'/media/Shanthini _M.pdf')"
   ]
  },
  {
   "cell_type": "code",
   "execution_count": 47,
   "id": "01a10e44",
   "metadata": {},
   "outputs": [],
   "source": [
    "resume_text = ''\n",
    "for page in pdf_reader.pages:\n",
    "        resume_text += page.extract_text()"
   ]
  },
  {
   "cell_type": "code",
   "execution_count": 48,
   "id": "8a82ed80",
   "metadata": {},
   "outputs": [
    {
     "name": "stdout",
     "output_type": "stream",
     "text": [
      " \n",
      "     \n",
      "M SHANTHI NI                               \n",
      " \n",
      " \n",
      "TECHNICAL SKILLS  \n",
      " \n",
      " C                       \n",
      " Data Structure   \n",
      " Html and CSS  \n",
      " Java  \n",
      " Psql \n",
      " \n",
      "SOFT SKILLS  \n",
      " \n",
      " Leadership skills  \n",
      "Team working skills  \n",
      " Management skills \n",
      " Problem -Solving  \n",
      "CERTIFICATIONS  \n",
      " \n",
      " HTML -Solo learn  \n",
      " Introduction to Cybersecurity | CISCO . \n",
      " Embracing Change | HARAPPA . \n",
      " \n",
      "LINGUISTIC SKILLS  \n",
      " \n",
      " \n",
      " Tamil  \n",
      " English  \n",
      " \n",
      "CODING WEBSITE  \n",
      " \n",
      " https://www.codingninjas.com/codestudio/pr\n",
      "ofile/Shalu_123  \n",
      " https://www.hackerrank.com/shanthinilal20\n",
      "02 \n",
      " https://www.hackerearth.com/@shanthinilal\n",
      "2002  \n",
      " \n",
      "DECLARATION  \n",
      " \n",
      "       I hereby declare that all the information stated \n",
      "above is true to my Knowledge and belief  .  \n",
      " \n",
      " CAREER OBJECTIVE  \n",
      "  To pursue a  job opportunity in a \n",
      "competitive environment that will change me  to   \n",
      "push my boundaries  and expand my knowledge in  \n",
      "the field of  Computer Science while allowing  me \n",
      "to Add value to the dynamics of  the Company.  \n",
      " \n",
      "EDUCATIONAL QUALIFICATION  \n",
      "Bachelor of Engineering in  CSE  \n",
      "Rathinam Technical Campus, Anna University         \n",
      "   8.1 \n",
      "2024  \n",
      "Higher Secondary with Specialization in [CS]  \n",
      "Government .Hr .Sec .School , Karuvalur.  \n",
      "State Board, Tirupur.  \n",
      " 78.3%  \n",
      "2020  \n",
      "Secondary School Leaving Certificate  \n",
      "Government .Hr .Sec.  School , Avinashi.  \n",
      "State Board, Tirupur  \n",
      " \n",
      " 91.4% \n",
      "2018   \n",
      " \n",
      " \n",
      " \n",
      " \n",
      " \n",
      " \n",
      " \n",
      " \n",
      " \n",
      " \n",
      " \n",
      " \n",
      " \n",
      " \n",
      " ACHIEVEMENTS AND ACCOMPLISHMENTS  \n",
      "        \n",
      "      Participating  certificate  in “The Guinness World  Record  \n",
      "      Event” – Most of the users to take an online  computer  \n",
      "      Programming   Lesson  in 24 hours  \n",
      " \n",
      "PROJECT  \n",
      " \n",
      "DATABA NK \n",
      "             \n",
      "     This projected is about mobile data handling which is to  \n",
      "share and save data.  Idea got selected in hacakathon 2022 . \n",
      " \n",
      "LEAVE MANAGEMENT SYSTEM  \n",
      " \n",
      "        It is a kind of project based on leave managing in school,  \n",
      "College and Office on Web Dev elopment.  \n",
      " B.E-Computer Science And Engineering  \n",
      "  +91 9692859492   \n",
      "shanthinilal2002 @gmail.com  \n",
      "   \n",
      "http://www.linkedin.com/in/shanthini2002 \n",
      "http://www.linkedin.com/in/shanthini2002  \n",
      " \n",
      " \n"
     ]
    }
   ],
   "source": [
    "prompt = \"Extract Name, Phone, and Email from the below resume text:\\n\\n\"\n",
    "prompt += resume_text\n",
    "print(resume_text)"
   ]
  },
  {
   "cell_type": "code",
   "execution_count": 49,
   "id": "3f0f71a0",
   "metadata": {},
   "outputs": [
    {
     "name": "stdout",
     "output_type": "stream",
     "text": [
      "Name: M SHANTHI NI\n",
      "Phone Number: +91 9692859492\n",
      "Email ID: shanthinilal2002@gmail.com\n"
     ]
    }
   ],
   "source": [
    "extract_contact_info(resume_text)"
   ]
  },
  {
   "cell_type": "code",
   "execution_count": null,
   "id": "031ff462",
   "metadata": {},
   "outputs": [],
   "source": []
  }
 ],
 "metadata": {
  "kernelspec": {
   "display_name": "Python 3 (ipykernel)",
   "language": "python",
   "name": "python3"
  },
  "language_info": {
   "codemirror_mode": {
    "name": "ipython",
    "version": 3
   },
   "file_extension": ".py",
   "mimetype": "text/x-python",
   "name": "python",
   "nbconvert_exporter": "python",
   "pygments_lexer": "ipython3",
   "version": "3.10.6"
  }
 },
 "nbformat": 4,
 "nbformat_minor": 5
}
